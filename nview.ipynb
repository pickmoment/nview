{
 "cells": [
  {
   "cell_type": "code",
   "execution_count": 1,
   "metadata": {},
   "outputs": [],
   "source": [
    "import requests\n",
    "from datetime import datetime\n",
    "from bs4 import BeautifulSoup\n",
    "from functools import reduce\n",
    "import operator\n",
    "import json\n",
    "from pampy import match\n",
    "import re\n",
    "from requests_html import HTMLSession\n",
    "session = HTMLSession()"
   ]
  },
  {
   "cell_type": "code",
   "execution_count": 99,
   "metadata": {},
   "outputs": [
    {
     "data": {
      "text/html": [
       "\n",
       "<!DOCTYPE html>\n",
       "<html>\n",
       "<head>\n",
       "  <link href=\"https://fonts.googleapis.com/css?family=Roboto:100,300,400,500,700,900|Material+Icons\" rel=\"stylesheet\">\n",
       "  <link href=\"https://cdn.jsdelivr.net/npm/vuetify/dist/vuetify.min.css\" rel=\"stylesheet\">\n",
       "  <meta name=\"viewport\" content=\"width=device-width, initial-scale=1, maximum-scale=1, user-scalable=no, minimal-ui\">\n",
       "</head>\n",
       "<body>\n",
       "  <div id=\"app\">\n",
       "    <v-app>\n",
       "      <v-content>\n",
       "          <v-layout row>\n",
       "            <v-flex xs12 sm2 offset-sm3>\n",
       "              <v-card>\n",
       "                <v-toolbar color=\"pink\" dark>\n",
       "                  <v-toolbar-title>Inbox</v-toolbar-title>\n",
       "                </v-toolbar>\n",
       "\n",
       "                <v-list>\n",
       "                  <template v-for=\"(item, index) in items\">\n",
       "                    <v-list-tile\n",
       "                      :key=\"item.title\"\n",
       "                      @click=\"toggle(index)\"\n",
       "                    >\n",
       "                      <v-list-tile-content>\n",
       "                        <v-list-tile-title>{{ item.title }}</v-list-tile-title>\n",
       "                      </v-list-tile-content>\n",
       "                    </v-list-tile>\n",
       "                  </template>\n",
       "                </v-list>\n",
       "              </v-card>\n",
       "            </v-flex>\n",
       "          </v-layout>\n",
       "      </v-content>\n",
       "    </v-app>\n",
       "  </div>\n",
       "\n",
       "  <script src=\"https://cdn.jsdelivr.net/npm/vue/dist/vue.js\"></script>\n",
       "  <script src=\"https://cdn.jsdelivr.net/npm/vuetify/dist/vuetify.js\"></script>\n",
       "  <script>\n",
       "    new Vue({ \n",
       "        el: '#app',\n",
       "        data: {\n",
       "            selected: [2],\n",
       "            items: [\n",
       "              {\n",
       "                action: '15 min',\n",
       "                headline: 'Brunch this weekend?',\n",
       "                title: 'Ali Connors',\n",
       "                subtitle: \"I'll be in your neighborhood doing errands this weekend. Do you want to hang out?\"\n",
       "              },\n",
       "              {\n",
       "                action: '2 hr',\n",
       "                headline: 'Summer BBQ',\n",
       "                title: 'me, Scrott, Jennifer',\n",
       "                subtitle: \"Wish I could come, but I'm out of town this weekend.\"\n",
       "              },\n",
       "              {\n",
       "                action: '6 hr',\n",
       "                headline: 'Oui oui',\n",
       "                title: 'Sandra Adams',\n",
       "                subtitle: 'Do you have Paris recommendations? Have you ever been?'\n",
       "              },\n",
       "              {\n",
       "                action: '12 hr',\n",
       "                headline: 'Birthday gift',\n",
       "                title: 'Trevor Hansen',\n",
       "                subtitle: 'Have any ideas about what we should get Heidi for her birthday?'\n",
       "              },\n",
       "              {\n",
       "                action: '12 hr',\n",
       "                headline: 'Birthday gift',\n",
       "                title: 'Trevor Hansen',\n",
       "                subtitle: 'Have any ideas about what we should get Heidi for her birthday?'\n",
       "              },\n",
       "              {\n",
       "                action: '12 hr',\n",
       "                headline: 'Birthday gift',\n",
       "                title: 'Trevor Hansen',\n",
       "                subtitle: 'Have any ideas about what we should get Heidi for her birthday?'\n",
       "              },\n",
       "              {\n",
       "                action: '12 hr',\n",
       "                headline: 'Birthday gift',\n",
       "                title: 'Trevor Hansen',\n",
       "                subtitle: 'Have any ideas about what we should get Heidi for her birthday?'\n",
       "              },\n",
       "              {\n",
       "                action: '18hr',\n",
       "                headline: 'Recipe to try',\n",
       "                title: 'Britta Holt',\n",
       "                subtitle: 'We should eat this: Grate, Squash, Corn, and tomatillo Tacos.'\n",
       "              }\n",
       "            ]        \n",
       "        },\n",
       "        methods: {\n",
       "         toggle (index) {\n",
       "            const i = this.selected.indexOf(index)\n",
       "\n",
       "            if (i > -1) {\n",
       "              this.selected.splice(i, 1)\n",
       "            } else {\n",
       "              this.selected.push(index)\n",
       "            }\n",
       "          }        \n",
       "        }\n",
       "    })\n",
       "  </script>\n",
       "</body>\n",
       "</html>\n"
      ],
      "text/plain": [
       "<IPython.core.display.HTML object>"
      ]
     },
     "metadata": {},
     "output_type": "display_data"
    }
   ],
   "source": [
    "from IPython.core.display import display, HTML\n",
    "display(HTML('''\n",
    "<!DOCTYPE html>\n",
    "<html>\n",
    "<head>\n",
    "  <link href=\"https://fonts.googleapis.com/css?family=Roboto:100,300,400,500,700,900|Material+Icons\" rel=\"stylesheet\">\n",
    "  <link href=\"https://cdn.jsdelivr.net/npm/vuetify/dist/vuetify.min.css\" rel=\"stylesheet\">\n",
    "  <meta name=\"viewport\" content=\"width=device-width, initial-scale=1, maximum-scale=1, user-scalable=no, minimal-ui\">\n",
    "</head>\n",
    "<body>\n",
    "  <div id=\"app\">\n",
    "    <v-app>\n",
    "      <v-content>\n",
    "          <v-layout row>\n",
    "            <v-flex xs12 sm2 offset-sm3>\n",
    "              <v-card>\n",
    "                <v-toolbar color=\"pink\" dark>\n",
    "                  <v-toolbar-title>Inbox</v-toolbar-title>\n",
    "                </v-toolbar>\n",
    "\n",
    "                <v-list>\n",
    "                  <template v-for=\"(item, index) in items\">\n",
    "                    <v-list-tile\n",
    "                      :key=\"item.title\"\n",
    "                      @click=\"toggle(index)\"\n",
    "                    >\n",
    "                      <v-list-tile-content>\n",
    "                        <v-list-tile-title>{{ item.title }}</v-list-tile-title>\n",
    "                      </v-list-tile-content>\n",
    "                    </v-list-tile>\n",
    "                  </template>\n",
    "                </v-list>\n",
    "              </v-card>\n",
    "            </v-flex>\n",
    "          </v-layout>\n",
    "      </v-content>\n",
    "    </v-app>\n",
    "  </div>\n",
    "\n",
    "  <script src=\"https://cdn.jsdelivr.net/npm/vue/dist/vue.js\"></script>\n",
    "  <script src=\"https://cdn.jsdelivr.net/npm/vuetify/dist/vuetify.js\"></script>\n",
    "  <script>\n",
    "    new Vue({ \n",
    "        el: '#app',\n",
    "        data: {\n",
    "            selected: [2],\n",
    "            items: [\n",
    "              {\n",
    "                action: '15 min',\n",
    "                headline: 'Brunch this weekend?',\n",
    "                title: 'Ali Connors',\n",
    "                subtitle: \"I'll be in your neighborhood doing errands this weekend. Do you want to hang out?\"\n",
    "              },\n",
    "              {\n",
    "                action: '2 hr',\n",
    "                headline: 'Summer BBQ',\n",
    "                title: 'me, Scrott, Jennifer',\n",
    "                subtitle: \"Wish I could come, but I'm out of town this weekend.\"\n",
    "              },\n",
    "              {\n",
    "                action: '6 hr',\n",
    "                headline: 'Oui oui',\n",
    "                title: 'Sandra Adams',\n",
    "                subtitle: 'Do you have Paris recommendations? Have you ever been?'\n",
    "              },\n",
    "              {\n",
    "                action: '12 hr',\n",
    "                headline: 'Birthday gift',\n",
    "                title: 'Trevor Hansen',\n",
    "                subtitle: 'Have any ideas about what we should get Heidi for her birthday?'\n",
    "              },\n",
    "              {\n",
    "                action: '12 hr',\n",
    "                headline: 'Birthday gift',\n",
    "                title: 'Trevor Hansen',\n",
    "                subtitle: 'Have any ideas about what we should get Heidi for her birthday?'\n",
    "              },\n",
    "              {\n",
    "                action: '12 hr',\n",
    "                headline: 'Birthday gift',\n",
    "                title: 'Trevor Hansen',\n",
    "                subtitle: 'Have any ideas about what we should get Heidi for her birthday?'\n",
    "              },\n",
    "              {\n",
    "                action: '12 hr',\n",
    "                headline: 'Birthday gift',\n",
    "                title: 'Trevor Hansen',\n",
    "                subtitle: 'Have any ideas about what we should get Heidi for her birthday?'\n",
    "              },\n",
    "              {\n",
    "                action: '18hr',\n",
    "                headline: 'Recipe to try',\n",
    "                title: 'Britta Holt',\n",
    "                subtitle: 'We should eat this: Grate, Squash, Corn, and tomatillo Tacos.'\n",
    "              }\n",
    "            ]        \n",
    "        },\n",
    "        methods: {\n",
    "         toggle (index) {\n",
    "            const i = this.selected.indexOf(index)\n",
    "\n",
    "            if (i > -1) {\n",
    "              this.selected.splice(i, 1)\n",
    "            } else {\n",
    "              this.selected.push(index)\n",
    "            }\n",
    "          }        \n",
    "        }\n",
    "    })\n",
    "  </script>\n",
    "</body>\n",
    "</html>\n",
    "'''))"
   ]
  },
  {
   "cell_type": "code",
   "execution_count": 11,
   "metadata": {},
   "outputs": [],
   "source": [
    "def get_media_list():\n",
    "    r = session.get('https://m.news.naver.com/newspaper/home.nhn')\n",
    "    return [{'id': li.attrs['id'], 'title': li.find('img', first=True).attrs['alt']} for li in r.html.find('ul.offc_lst._headline_list > li')]\n",
    "\n",
    "def get_article_list(media, ymd):\n",
    "    url = 'https://media.naver.com/press/{}/newspaper?date={}'\n",
    "    r = session.get(url.format(media, ymd))\n",
    "    article_list = [{'title': article.find('strong', first=True).text, 'link': article.find('a', first=True).attrs['href']} for article in r.html.find('ul.newspaper_article_lst > li')]\n",
    "    return article_list\n",
    "\n",
    "def get_summary(article_link):\n",
    "    m = match(article_link, re.compile('https://.+/.+/.+/([0-9]+)/([0-9]+)'), lambda m, a: (m, a))\n",
    "    r = session.get('https://tts.news.naver.com/article/{}/{}/summary'.format(*m))\n",
    "    rj = r.json()\n",
    "    if 'summary' in rj:\n",
    "        return rj['summary']\n",
    "    return None"
   ]
  },
  {
   "cell_type": "code",
   "execution_count": 6,
   "metadata": {},
   "outputs": [
    {
     "data": {
      "text/plain": [
       "[{'id': '023', 'title': '조선일보'},\n",
       " {'id': '022', 'title': '세계일보'},\n",
       " {'id': '353', 'title': '중앙SUNDAY'},\n",
       " {'id': '014', 'title': '파이낸셜뉴스'},\n",
       " {'id': '028', 'title': '한겨레'},\n",
       " {'id': '011', 'title': '서울경제'},\n",
       " {'id': '469', 'title': '한국일보'},\n",
       " {'id': '032', 'title': '경향신문'},\n",
       " {'id': '020', 'title': '동아일보'},\n",
       " {'id': '015', 'title': '한국경제'},\n",
       " {'id': '005', 'title': '국민일보'},\n",
       " {'id': '009', 'title': '매일경제'},\n",
       " {'id': '018', 'title': '이데일리'},\n",
       " {'id': '016', 'title': '헤럴드경제'},\n",
       " {'id': '081', 'title': '서울신문'},\n",
       " {'id': '029', 'title': '디지털타임스'},\n",
       " {'id': '277', 'title': '아시아경제'},\n",
       " {'id': '044', 'title': '코리아헤럴드'},\n",
       " {'id': '030', 'title': '전자신문'},\n",
       " {'id': '008', 'title': '머니투데이'},\n",
       " {'id': '021', 'title': '문화일보'}]"
      ]
     },
     "execution_count": 6,
     "metadata": {},
     "output_type": "execute_result"
    }
   ],
   "source": [
    "media_list = get_media_list()\n",
    "media_list"
   ]
  },
  {
   "cell_type": "code",
   "execution_count": 15,
   "metadata": {},
   "outputs": [
    {
     "data": {
      "text/plain": [
       "35"
      ]
     },
     "execution_count": 15,
     "metadata": {},
     "output_type": "execute_result"
    }
   ],
   "source": [
    "article_list = get_article_list('028', '20190504')\n",
    "len(article_list)"
   ]
  },
  {
   "cell_type": "code",
   "execution_count": 14,
   "metadata": {},
   "outputs": [
    {
     "data": {
      "text/plain": [
       "'박상기 법무부 장관이 3일 검찰의 수사 관행을 비판하며 \\'권한 재조정\\'이 필요하다고 말했다.<br/><br/>이날 오전 경기도 수원에서 열린 \\'수원고검 개청식 및 수원검찰청사 준공식\\'에 참석한 박 장관은 기념사를 통해 \"시대 상황은 변했고 국민의 시각과 의식도 달라졌다.검찰의 수사 관행은 물론이고, 권한도 견제와 균형의 원리에 맞도록 재조정돼야 한다\"고 말했다.<br/><br/>지난 1일 문무일 검찰총장이 검경 수사권 조정 법안에 대해 \"견제와 균형이라는 민주주의 원리에 반한다\"고 비판했는데, \\'견제\\'와 \\'균형\\'이라는 단어를 그대로 써서 반박한 것이다.'"
      ]
     },
     "execution_count": 14,
     "metadata": {},
     "output_type": "execute_result"
    }
   ],
   "source": [
    "get_summary(article_list[0]['link'])"
   ]
  },
  {
   "cell_type": "code",
   "execution_count": 17,
   "metadata": {},
   "outputs": [
    {
     "data": {
      "text/plain": [
       "'20190504'"
      ]
     },
     "execution_count": 17,
     "metadata": {},
     "output_type": "execute_result"
    }
   ],
   "source": [
    "datetime.now().strftime('%Y%m%d')"
   ]
  },
  {
   "cell_type": "code",
   "execution_count": null,
   "metadata": {},
   "outputs": [],
   "source": []
  }
 ],
 "metadata": {
  "kernelspec": {
   "display_name": "Python 3",
   "language": "python",
   "name": "python3"
  },
  "language_info": {
   "codemirror_mode": {
    "name": "ipython",
    "version": 3
   },
   "file_extension": ".py",
   "mimetype": "text/x-python",
   "name": "python",
   "nbconvert_exporter": "python",
   "pygments_lexer": "ipython3",
   "version": "3.7.3"
  }
 },
 "nbformat": 4,
 "nbformat_minor": 2
}
