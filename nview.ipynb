{
 "cells": [
  {
   "cell_type": "code",
   "execution_count": 38,
   "metadata": {},
   "outputs": [],
   "source": [
    "import requests\n",
    "from datetime import datetime\n",
    "from bs4 import BeautifulSoup\n",
    "from functools import reduce\n",
    "import operator"
   ]
  },
  {
   "cell_type": "code",
   "execution_count": 75,
   "metadata": {},
   "outputs": [],
   "source": [
    "def get_media_list():\n",
    "    response = requests.get('https://m.news.naver.com/newspaper/home.nhn')\n",
    "    soup = BeautifulSoup(response.text, 'html.parser')\n",
    "    return [{'id': media.get('id'), 'title': media.find('img')['alt']} for media in soup.find('ul', {'class': ['offc_lst', '_headline_list']}).find_all('li')]\n",
    "\n",
    "def get_article_list(media, ymd):\n",
    "    url = 'https://media.naver.com/press/{}/newspaper?date={}'\n",
    "    response = requests.get(url.format(media, ymd))\n",
    "    soup = BeautifulSoup(response.text, 'html.parser')\n",
    "    article_list = [page.find_all('li') for page in soup.find_all('ul', {'class': 'newspaper_article_lst'})]\n",
    "    if article_list:\n",
    "        article_list = reduce(operator.concat, article_list)\n",
    "    return article_list"
   ]
  },
  {
   "cell_type": "code",
   "execution_count": 76,
   "metadata": {},
   "outputs": [
    {
     "name": "stdout",
     "output_type": "stream",
     "text": [
      "한겨레 78\n",
      "디지털타임스 98\n",
      "전자신문 129\n",
      "서울경제 140\n",
      "매일경제 161\n",
      "파이낸셜뉴스 105\n",
      "동아일보 106\n",
      "머니투데이 83\n",
      "중앙일보 74\n",
      "경향신문 92\n",
      "세계일보 86\n",
      "조선일보 129\n",
      "코리아헤럴드 16\n",
      "이데일리 86\n",
      "국민일보 95\n",
      "서울신문 116\n",
      "한국경제 154\n",
      "한국일보 78\n",
      "헤럴드경제 0\n",
      "문화일보 0\n",
      "아시아경제 0\n"
     ]
    }
   ],
   "source": [
    "media_list = get_media_list()\n",
    "ymd = datetime.now().strftime('%Y%m%d')\n",
    "for media in media_list:\n",
    "    article_list = get_article_list(media['id'], ymd)\n",
    "    print(media['title'], len(article_list))"
   ]
  },
  {
   "cell_type": "code",
   "execution_count": null,
   "metadata": {},
   "outputs": [],
   "source": []
  }
 ],
 "metadata": {
  "kernelspec": {
   "display_name": "Python 3",
   "language": "python",
   "name": "python3"
  },
  "language_info": {
   "codemirror_mode": {
    "name": "ipython",
    "version": 3
   },
   "file_extension": ".py",
   "mimetype": "text/x-python",
   "name": "python",
   "nbconvert_exporter": "python",
   "pygments_lexer": "ipython3",
   "version": "3.6.3"
  }
 },
 "nbformat": 4,
 "nbformat_minor": 2
}
