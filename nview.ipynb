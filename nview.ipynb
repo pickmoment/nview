{
 "cells": [
  {
   "cell_type": "code",
   "execution_count": 38,
   "metadata": {},
   "outputs": [],
   "source": [
    "import requests\n",
    "from datetime import datetime\n",
    "from bs4 import BeautifulSoup\n",
    "from functools import reduce\n",
    "import operator"
   ]
  },
  {
   "cell_type": "code",
   "execution_count": 83,
   "metadata": {},
   "outputs": [],
   "source": [
    "def get_media_list():\n",
    "    response = requests.get('https://m.news.naver.com/newspaper/home.nhn')\n",
    "    soup = BeautifulSoup(response.text, 'html.parser')\n",
    "    return [{'id': media.get('id'), 'title': media.find('img')['alt']} for media in soup.find('ul', {'class': ['offc_lst', '_headline_list']}).find_all('li')]\n",
    "\n",
    "def get_article_list(media, ymd):\n",
    "    url = 'https://media.naver.com/press/{}/newspaper?date={}'\n",
    "    response = requests.get(url.format(media, ymd))\n",
    "    soup = BeautifulSoup(response.text, 'html.parser')\n",
    "    article_list = [page.find_all('li') for page in soup.find_all('ul', {'class': 'newspaper_article_lst'})]\n",
    "    if article_list:\n",
    "        article_list = reduce(operator.concat, article_list)\n",
    "    article_list = [{'title': article.find('strong').text, 'link': article.find('a')['href']} for article in article_list]\n",
    "    return article_list"
   ]
  },
  {
   "cell_type": "code",
   "execution_count": 85,
   "metadata": {},
   "outputs": [
    {
     "name": "stdout",
     "output_type": "stream",
     "text": [
      "조선일보 129\n",
      "전자신문 129\n",
      "세계일보 90\n",
      "디지털타임스 98\n",
      "파이낸셜뉴스 105\n",
      "헤럴드경제 105\n",
      "한국일보 78\n",
      "매일경제 161\n",
      "한국경제 154\n",
      "서울신문 117\n",
      "머니투데이 83\n",
      "코리아헤럴드 16\n",
      "서울경제 140\n",
      "한겨레 78\n",
      "동아일보 107\n",
      "국민일보 95\n",
      "중앙일보 75\n",
      "경향신문 92\n",
      "이데일리 86\n",
      "문화일보 0\n",
      "아시아경제 0\n"
     ]
    }
   ],
   "source": [
    "media_list = get_media_list()\n",
    "ymd = datetime.now().strftime('%Y%m%d')\n",
    "for media in media_list:\n",
    "    article_list = get_article_list(media['id'], ymd)\n",
    "    print(media['title'], len(article_list))"
   ]
  },
  {
   "cell_type": "code",
   "execution_count": 99,
   "metadata": {},
   "outputs": [
    {
     "data": {
      "text/html": [
       "\n",
       "<!DOCTYPE html>\n",
       "<html>\n",
       "<head>\n",
       "  <link href=\"https://fonts.googleapis.com/css?family=Roboto:100,300,400,500,700,900|Material+Icons\" rel=\"stylesheet\">\n",
       "  <link href=\"https://cdn.jsdelivr.net/npm/vuetify/dist/vuetify.min.css\" rel=\"stylesheet\">\n",
       "  <meta name=\"viewport\" content=\"width=device-width, initial-scale=1, maximum-scale=1, user-scalable=no, minimal-ui\">\n",
       "</head>\n",
       "<body>\n",
       "  <div id=\"app\">\n",
       "    <v-app>\n",
       "      <v-content>\n",
       "          <v-layout row>\n",
       "            <v-flex xs12 sm2 offset-sm3>\n",
       "              <v-card>\n",
       "                <v-toolbar color=\"pink\" dark>\n",
       "                  <v-toolbar-title>Inbox</v-toolbar-title>\n",
       "                </v-toolbar>\n",
       "\n",
       "                <v-list>\n",
       "                  <template v-for=\"(item, index) in items\">\n",
       "                    <v-list-tile\n",
       "                      :key=\"item.title\"\n",
       "                      @click=\"toggle(index)\"\n",
       "                    >\n",
       "                      <v-list-tile-content>\n",
       "                        <v-list-tile-title>{{ item.title }}</v-list-tile-title>\n",
       "                      </v-list-tile-content>\n",
       "                    </v-list-tile>\n",
       "                  </template>\n",
       "                </v-list>\n",
       "              </v-card>\n",
       "            </v-flex>\n",
       "          </v-layout>\n",
       "      </v-content>\n",
       "    </v-app>\n",
       "  </div>\n",
       "\n",
       "  <script src=\"https://cdn.jsdelivr.net/npm/vue/dist/vue.js\"></script>\n",
       "  <script src=\"https://cdn.jsdelivr.net/npm/vuetify/dist/vuetify.js\"></script>\n",
       "  <script>\n",
       "    new Vue({ \n",
       "        el: '#app',\n",
       "        data: {\n",
       "            selected: [2],\n",
       "            items: [\n",
       "              {\n",
       "                action: '15 min',\n",
       "                headline: 'Brunch this weekend?',\n",
       "                title: 'Ali Connors',\n",
       "                subtitle: \"I'll be in your neighborhood doing errands this weekend. Do you want to hang out?\"\n",
       "              },\n",
       "              {\n",
       "                action: '2 hr',\n",
       "                headline: 'Summer BBQ',\n",
       "                title: 'me, Scrott, Jennifer',\n",
       "                subtitle: \"Wish I could come, but I'm out of town this weekend.\"\n",
       "              },\n",
       "              {\n",
       "                action: '6 hr',\n",
       "                headline: 'Oui oui',\n",
       "                title: 'Sandra Adams',\n",
       "                subtitle: 'Do you have Paris recommendations? Have you ever been?'\n",
       "              },\n",
       "              {\n",
       "                action: '12 hr',\n",
       "                headline: 'Birthday gift',\n",
       "                title: 'Trevor Hansen',\n",
       "                subtitle: 'Have any ideas about what we should get Heidi for her birthday?'\n",
       "              },\n",
       "              {\n",
       "                action: '12 hr',\n",
       "                headline: 'Birthday gift',\n",
       "                title: 'Trevor Hansen',\n",
       "                subtitle: 'Have any ideas about what we should get Heidi for her birthday?'\n",
       "              },\n",
       "              {\n",
       "                action: '12 hr',\n",
       "                headline: 'Birthday gift',\n",
       "                title: 'Trevor Hansen',\n",
       "                subtitle: 'Have any ideas about what we should get Heidi for her birthday?'\n",
       "              },\n",
       "              {\n",
       "                action: '12 hr',\n",
       "                headline: 'Birthday gift',\n",
       "                title: 'Trevor Hansen',\n",
       "                subtitle: 'Have any ideas about what we should get Heidi for her birthday?'\n",
       "              },\n",
       "              {\n",
       "                action: '18hr',\n",
       "                headline: 'Recipe to try',\n",
       "                title: 'Britta Holt',\n",
       "                subtitle: 'We should eat this: Grate, Squash, Corn, and tomatillo Tacos.'\n",
       "              }\n",
       "            ]        \n",
       "        },\n",
       "        methods: {\n",
       "         toggle (index) {\n",
       "            const i = this.selected.indexOf(index)\n",
       "\n",
       "            if (i > -1) {\n",
       "              this.selected.splice(i, 1)\n",
       "            } else {\n",
       "              this.selected.push(index)\n",
       "            }\n",
       "          }        \n",
       "        }\n",
       "    })\n",
       "  </script>\n",
       "</body>\n",
       "</html>\n"
      ],
      "text/plain": [
       "<IPython.core.display.HTML object>"
      ]
     },
     "metadata": {},
     "output_type": "display_data"
    }
   ],
   "source": [
    "from IPython.core.display import display, HTML\n",
    "display(HTML('''\n",
    "<!DOCTYPE html>\n",
    "<html>\n",
    "<head>\n",
    "  <link href=\"https://fonts.googleapis.com/css?family=Roboto:100,300,400,500,700,900|Material+Icons\" rel=\"stylesheet\">\n",
    "  <link href=\"https://cdn.jsdelivr.net/npm/vuetify/dist/vuetify.min.css\" rel=\"stylesheet\">\n",
    "  <meta name=\"viewport\" content=\"width=device-width, initial-scale=1, maximum-scale=1, user-scalable=no, minimal-ui\">\n",
    "</head>\n",
    "<body>\n",
    "  <div id=\"app\">\n",
    "    <v-app>\n",
    "      <v-content>\n",
    "          <v-layout row>\n",
    "            <v-flex xs12 sm2 offset-sm3>\n",
    "              <v-card>\n",
    "                <v-toolbar color=\"pink\" dark>\n",
    "                  <v-toolbar-title>Inbox</v-toolbar-title>\n",
    "                </v-toolbar>\n",
    "\n",
    "                <v-list>\n",
    "                  <template v-for=\"(item, index) in items\">\n",
    "                    <v-list-tile\n",
    "                      :key=\"item.title\"\n",
    "                      @click=\"toggle(index)\"\n",
    "                    >\n",
    "                      <v-list-tile-content>\n",
    "                        <v-list-tile-title>{{ item.title }}</v-list-tile-title>\n",
    "                      </v-list-tile-content>\n",
    "                    </v-list-tile>\n",
    "                  </template>\n",
    "                </v-list>\n",
    "              </v-card>\n",
    "            </v-flex>\n",
    "          </v-layout>\n",
    "      </v-content>\n",
    "    </v-app>\n",
    "  </div>\n",
    "\n",
    "  <script src=\"https://cdn.jsdelivr.net/npm/vue/dist/vue.js\"></script>\n",
    "  <script src=\"https://cdn.jsdelivr.net/npm/vuetify/dist/vuetify.js\"></script>\n",
    "  <script>\n",
    "    new Vue({ \n",
    "        el: '#app',\n",
    "        data: {\n",
    "            selected: [2],\n",
    "            items: [\n",
    "              {\n",
    "                action: '15 min',\n",
    "                headline: 'Brunch this weekend?',\n",
    "                title: 'Ali Connors',\n",
    "                subtitle: \"I'll be in your neighborhood doing errands this weekend. Do you want to hang out?\"\n",
    "              },\n",
    "              {\n",
    "                action: '2 hr',\n",
    "                headline: 'Summer BBQ',\n",
    "                title: 'me, Scrott, Jennifer',\n",
    "                subtitle: \"Wish I could come, but I'm out of town this weekend.\"\n",
    "              },\n",
    "              {\n",
    "                action: '6 hr',\n",
    "                headline: 'Oui oui',\n",
    "                title: 'Sandra Adams',\n",
    "                subtitle: 'Do you have Paris recommendations? Have you ever been?'\n",
    "              },\n",
    "              {\n",
    "                action: '12 hr',\n",
    "                headline: 'Birthday gift',\n",
    "                title: 'Trevor Hansen',\n",
    "                subtitle: 'Have any ideas about what we should get Heidi for her birthday?'\n",
    "              },\n",
    "              {\n",
    "                action: '12 hr',\n",
    "                headline: 'Birthday gift',\n",
    "                title: 'Trevor Hansen',\n",
    "                subtitle: 'Have any ideas about what we should get Heidi for her birthday?'\n",
    "              },\n",
    "              {\n",
    "                action: '12 hr',\n",
    "                headline: 'Birthday gift',\n",
    "                title: 'Trevor Hansen',\n",
    "                subtitle: 'Have any ideas about what we should get Heidi for her birthday?'\n",
    "              },\n",
    "              {\n",
    "                action: '12 hr',\n",
    "                headline: 'Birthday gift',\n",
    "                title: 'Trevor Hansen',\n",
    "                subtitle: 'Have any ideas about what we should get Heidi for her birthday?'\n",
    "              },\n",
    "              {\n",
    "                action: '18hr',\n",
    "                headline: 'Recipe to try',\n",
    "                title: 'Britta Holt',\n",
    "                subtitle: 'We should eat this: Grate, Squash, Corn, and tomatillo Tacos.'\n",
    "              }\n",
    "            ]        \n",
    "        },\n",
    "        methods: {\n",
    "         toggle (index) {\n",
    "            const i = this.selected.indexOf(index)\n",
    "\n",
    "            if (i > -1) {\n",
    "              this.selected.splice(i, 1)\n",
    "            } else {\n",
    "              this.selected.push(index)\n",
    "            }\n",
    "          }        \n",
    "        }\n",
    "    })\n",
    "  </script>\n",
    "</body>\n",
    "</html>\n",
    "'''))"
   ]
  },
  {
   "cell_type": "code",
   "execution_count": 1,
   "metadata": {},
   "outputs": [],
   "source": [
    "from requests_html import HTMLSession"
   ]
  },
  {
   "cell_type": "code",
   "execution_count": 2,
   "metadata": {},
   "outputs": [],
   "source": [
    "session = HTMLSession()"
   ]
  },
  {
   "cell_type": "code",
   "execution_count": 51,
   "metadata": {},
   "outputs": [],
   "source": []
  },
  {
   "cell_type": "code",
   "execution_count": 67,
   "metadata": {},
   "outputs": [
    {
     "data": {
      "text/plain": [
       "[{'id': '015', 'title': '한국경제'},\n",
       " {'id': '008', 'title': '머니투데이'},\n",
       " {'id': '020', 'title': '동아일보'},\n",
       " {'id': '014', 'title': '파이낸셜뉴스'},\n",
       " {'id': '469', 'title': '한국일보'},\n",
       " {'id': '022', 'title': '세계일보'},\n",
       " {'id': '009', 'title': '매일경제'},\n",
       " {'id': '044', 'title': '코리아헤럴드'},\n",
       " {'id': '005', 'title': '국민일보'},\n",
       " {'id': '029', 'title': '디지털타임스'},\n",
       " {'id': '081', 'title': '서울신문'},\n",
       " {'id': '032', 'title': '경향신문'},\n",
       " {'id': '028', 'title': '한겨레'},\n",
       " {'id': '018', 'title': '이데일리'},\n",
       " {'id': '011', 'title': '서울경제'},\n",
       " {'id': '025', 'title': '중앙일보'},\n",
       " {'id': '030', 'title': '전자신문'},\n",
       " {'id': '023', 'title': '조선일보'},\n",
       " {'id': '016', 'title': '헤럴드경제'},\n",
       " {'id': '021', 'title': '문화일보'},\n",
       " {'id': '277', 'title': '아시아경제'}]"
      ]
     },
     "execution_count": 67,
     "metadata": {},
     "output_type": "execute_result"
    }
   ],
   "source": []
  },
  {
   "cell_type": "code",
   "execution_count": 62,
   "metadata": {},
   "outputs": [
    {
     "data": {
      "text/plain": [
       "'015'"
      ]
     },
     "execution_count": 62,
     "metadata": {},
     "output_type": "execute_result"
    }
   ],
   "source": [
    "li.attrs['id']"
   ]
  },
  {
   "cell_type": "code",
   "execution_count": 66,
   "metadata": {},
   "outputs": [
    {
     "data": {
      "text/plain": [
       "'한국경제'"
      ]
     },
     "execution_count": 66,
     "metadata": {},
     "output_type": "execute_result"
    }
   ],
   "source": [
    "li.find('img', first=True).attrs['alt']"
   ]
  },
  {
   "cell_type": "code",
   "execution_count": 68,
   "metadata": {},
   "outputs": [],
   "source": [
    "def get_media_list():\n",
    "    r = session.get('https://m.news.naver.com/newspaper/home.nhn')\n",
    "    return [{'id': li.attrs['id'], 'title': li.find('img', first=True).attrs['alt']} for li in r.html.find('ul.offc_lst._headline_list > li')]"
   ]
  },
  {
   "cell_type": "code",
   "execution_count": 69,
   "metadata": {},
   "outputs": [
    {
     "data": {
      "text/plain": [
       "[{'id': '029', 'title': '디지털타임스'},\n",
       " {'id': '469', 'title': '한국일보'},\n",
       " {'id': '025', 'title': '중앙일보'},\n",
       " {'id': '032', 'title': '경향신문'},\n",
       " {'id': '015', 'title': '한국경제'},\n",
       " {'id': '014', 'title': '파이낸셜뉴스'},\n",
       " {'id': '044', 'title': '코리아헤럴드'},\n",
       " {'id': '009', 'title': '매일경제'},\n",
       " {'id': '023', 'title': '조선일보'},\n",
       " {'id': '081', 'title': '서울신문'},\n",
       " {'id': '011', 'title': '서울경제'},\n",
       " {'id': '022', 'title': '세계일보'},\n",
       " {'id': '028', 'title': '한겨레'},\n",
       " {'id': '018', 'title': '이데일리'},\n",
       " {'id': '020', 'title': '동아일보'},\n",
       " {'id': '008', 'title': '머니투데이'},\n",
       " {'id': '005', 'title': '국민일보'},\n",
       " {'id': '030', 'title': '전자신문'},\n",
       " {'id': '016', 'title': '헤럴드경제'},\n",
       " {'id': '021', 'title': '문화일보'},\n",
       " {'id': '277', 'title': '아시아경제'}]"
      ]
     },
     "execution_count": 69,
     "metadata": {},
     "output_type": "execute_result"
    }
   ],
   "source": [
    "def get_article_list(media, ymd):\n",
    "    url = 'https://media.naver.com/press/{}/newspaper?date={}'\n",
    "    r = session.get(url.format(media, ymd))\n",
    "    article_list = [{'title': article.find('strong').text, 'link': article.find('a')} for article in r.html.find('ul.newspaper_article_lst > li')]\n",
    "    return article_list"
   ]
  },
  {
   "cell_type": "code",
   "execution_count": 70,
   "metadata": {},
   "outputs": [],
   "source": [
    "url = 'https://media.naver.com/press/{}/newspaper?date={}'\n",
    "r = session.get(url.format('029', '20190502'))"
   ]
  },
  {
   "cell_type": "code",
   "execution_count": 84,
   "metadata": {},
   "outputs": [
    {
     "data": {
      "text/plain": [
       "'<li>\\n<a href=\"https://n.news.naver.com/article/newspaper/029/0002524423?date=20190502\" onclick=\"nclk(event,\\'pap.alist\\',\\'\\',\\'\\');\">\\n<div class=\"newspaper_img_frame\">\\n<img alt=\"&#xC12C;&#xB124;&#xC77C; &#xC774;&#xBBF8;&#xC9C0;\" onerror=\"setNotFoundImage(this, \\'430\\');\" src=\"https://mimgnews.pstatic.net/image/origin/029/2019/05/01/2524423.jpg?type=nf600_340\"/>\\n</div>\\n<div class=\"newspaper_txt_box\">\\n<strong>저성장 구도 고착화…위축경제 직면한 韓</strong>\\n<p>실질 GDP, 잠재 GDP 밑돌아 7년 연속 \\'마이너스 아웃풋 갭\\' 성장률 2배 넘는 정부지출 문제 투자·소비여력 감소 가능성 커 [디지털타임스 박정일 기자] 한국 경제가 저성장 구도의 고착화 단계인 \\'위축경제\\'에 </p>\\n</div>\\n</a>\\n</li>'"
      ]
     },
     "execution_count": 84,
     "metadata": {},
     "output_type": "execute_result"
    }
   ],
   "source": [
    "r.html.find('ul.newspaper_article_lst > li', first=True).html"
   ]
  },
  {
   "cell_type": "code",
   "execution_count": 2,
   "metadata": {},
   "outputs": [],
   "source": [
    "#https://tts.news.naver.com/article/032/0002938140/summary\n",
    "from pampy import match\n",
    "import re"
   ]
  },
  {
   "cell_type": "code",
   "execution_count": 9,
   "metadata": {},
   "outputs": [
    {
     "data": {
      "text/plain": [
       "'https://tts.news.naver.com/article/029/0002524423/summary'"
      ]
     },
     "execution_count": 9,
     "metadata": {},
     "output_type": "execute_result"
    }
   ],
   "source": [
    "s = 'https://n.news.naver.com/article/newspaper/029/0002524423?date=20190502'\n",
    "m = match(s, re.compile('https://.+/.+/.+/([0-9]+)/([0-9]+)'), lambda m, a: (m, a))\n",
    "'https://tts.news.naver.com/article/{}/{}/summary'.format(*m)"
   ]
  },
  {
   "cell_type": "code",
   "execution_count": 10,
   "metadata": {},
   "outputs": [
    {
     "ename": "NameError",
     "evalue": "name 'session' is not defined",
     "output_type": "error",
     "traceback": [
      "\u001b[0;31m---------------------------------------------------------------------------\u001b[0m",
      "\u001b[0;31mNameError\u001b[0m                                 Traceback (most recent call last)",
      "\u001b[0;32m<ipython-input-10-7d385a22ddca>\u001b[0m in \u001b[0;36m<module>\u001b[0;34m\u001b[0m\n\u001b[0;32m----> 1\u001b[0;31m \u001b[0mr\u001b[0m \u001b[0;34m=\u001b[0m \u001b[0msession\u001b[0m\u001b[0;34m.\u001b[0m\u001b[0mget\u001b[0m\u001b[0;34m(\u001b[0m\u001b[0;34m'https://tts.news.naver.com/article/029/0002524423/summary'\u001b[0m\u001b[0;34m)\u001b[0m\u001b[0;34m\u001b[0m\u001b[0;34m\u001b[0m\u001b[0m\n\u001b[0m",
      "\u001b[0;31mNameError\u001b[0m: name 'session' is not defined"
     ]
    }
   ],
   "source": [
    "r = session.get('https://tts.news.naver.com/article/029/0002524423/summary')"
   ]
  },
  {
   "cell_type": "code",
   "execution_count": null,
   "metadata": {},
   "outputs": [],
   "source": []
  }
 ],
 "metadata": {
  "kernelspec": {
   "display_name": "Python 3",
   "language": "python",
   "name": "python3"
  },
  "language_info": {
   "codemirror_mode": {
    "name": "ipython",
    "version": 3
   },
   "file_extension": ".py",
   "mimetype": "text/x-python",
   "name": "python",
   "nbconvert_exporter": "python",
   "pygments_lexer": "ipython3",
   "version": "3.7.3"
  }
 },
 "nbformat": 4,
 "nbformat_minor": 2
}
